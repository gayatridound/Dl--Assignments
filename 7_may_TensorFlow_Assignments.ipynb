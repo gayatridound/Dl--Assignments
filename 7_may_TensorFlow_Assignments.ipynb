{
 "cells": [
  {
   "cell_type": "markdown",
   "id": "8e512abe-abdf-4d2f-ae69-8554612e5673",
   "metadata": {},
   "source": [
    "## Part 1: Theoretical Queltionk "
   ]
  },
  {
   "cell_type": "raw",
   "id": "3215017d-a67d-4edb-b686-3901c46cb03b",
   "metadata": {},
   "source": [
    "1.What are the different data structures used in Tensorflow?. Give some examplesc"
   ]
  },
  {
   "cell_type": "markdown",
   "id": "0e46a94e-471e-400b-8a9b-f0e11c9d1907",
   "metadata": {},
   "source": [
    "1.Tensors:\n",
    "The fundamental building block in TensorFlow.\n",
    "Multidimensional arrays that hold numerical data (floating-point, integers) or other types like strings or booleans.\n",
    "Examples:\n",
    "A 2D tensor representing an image (height x width).\n",
    "A 1D tensor holding a sequence of numbers.\n",
    "A 3D tensor for volumetric data (e.g., 3D medical scans).\n",
    "\n",
    "2.Variables:\n",
    "Persistent data structures that store trainable parameters (weights and biases) of your model.\n",
    "Values can be updated during the training process using optimizers.\n",
    "TensorFlow manages the variables within the computational graph.\n",
    "Examples:\n",
    "Defining model weights and biases as variables.\n",
    "Updating these variables based on the loss function and optimizer during training.\n",
    "\n",
    "3.Strings: Represented by tf.string tensors for textual data.\n",
    "\n",
    "4.Booleans: Represented by tf.bool tensors for logical values (True/False).\n",
    "\n",
    "5.Sparse Tensors: Efficiently represent data with many zero entries, useful for recommender systems or natural language processing."
   ]
  },
  {
   "cell_type": "raw",
   "id": "d72d0179-c4a2-4838-bc09-35af34f27c86",
   "metadata": {},
   "source": [
    "2.How does the TensorFlow constant differ from a TensorFlow variable? Explain with an examplec"
   ]
  },
  {
   "cell_type": "markdown",
   "id": "b7f14193-83c2-438c-bc7c-0a2a67e15382",
   "metadata": {},
   "source": [
    "1.Constants (tf.constant):\n",
    "    Represent fixed, unchangeable values.\n",
    "    Once created, their values cannot be updated.\n",
    "    \n",
    "2.Variables (tf.Variable): \n",
    "    Represent mutable data that can be updated during program execution.\n",
    "    Essential for storing and training model parameters (weights and biases) as they need to be adjusted based on the loss function.\n",
    "    TensorFlow tracks variables within the computational graph for efficient optimization."
   ]
  },
  {
   "cell_type": "code",
   "execution_count": 7,
   "id": "5de8de99-8de6-48f9-a296-6759adff76f3",
   "metadata": {},
   "outputs": [
    {
     "data": {
      "text/plain": [
       "<tf.Tensor: shape=(), dtype=float32, numpy=0.01>"
      ]
     },
     "execution_count": 7,
     "metadata": {},
     "output_type": "execute_result"
    }
   ],
   "source": [
    "#constant\n",
    "import tensorflow as tf\n",
    "learning_rate = tf.constant(0.01)  # Fixed learning rate for training\n",
    "learning_rate"
   ]
  },
  {
   "cell_type": "code",
   "execution_count": null,
   "id": "288e4142-e683-4f22-b345-537472b5adc4",
   "metadata": {},
   "outputs": [],
   "source": []
  },
  {
   "cell_type": "code",
   "execution_count": 8,
   "id": "60e2deeb-cc09-4c03-85a2-7680f8b2a133",
   "metadata": {},
   "outputs": [
    {
     "data": {
      "text/plain": [
       "<tf.Variable 'Variable:0' shape=(784, 10) dtype=float32, numpy=\n",
       "array([[ 0.7991778 ,  1.1549237 ,  2.2278092 , ..., -0.87790704,\n",
       "        -0.69442177, -0.6969919 ],\n",
       "       [-0.44462046,  0.8245747 ,  1.058038  , ..., -0.50793993,\n",
       "        -0.40612203, -0.4364217 ],\n",
       "       [-0.25238517,  0.06505982,  0.07399543, ..., -0.66150343,\n",
       "        -0.11843639, -0.6508913 ],\n",
       "       ...,\n",
       "       [ 0.43911234,  0.27463755, -0.12559731, ..., -0.04526976,\n",
       "         1.0937405 , -0.19129714],\n",
       "       [ 0.4942011 ,  1.0681407 , -0.12608048, ...,  0.3806356 ,\n",
       "         0.9608428 ,  2.1989136 ],\n",
       "       [ 1.5400738 , -0.03987854,  0.07830472, ...,  2.1695504 ,\n",
       "         0.81734914, -0.6669307 ]], dtype=float32)>"
      ]
     },
     "execution_count": 8,
     "metadata": {},
     "output_type": "execute_result"
    }
   ],
   "source": [
    "#variable\n",
    "import tensorflow as tf\n",
    "\n",
    "w = tf.Variable(tf.random.normal([784, 10]))  # Weights for a model (randomly initialized)\n",
    "w"
   ]
  },
  {
   "cell_type": "raw",
   "id": "d2bb72a7-3be7-4d6b-a83b-82f4a30a1aba",
   "metadata": {},
   "source": [
    "3. Describe the process of matrix addition, multiplication, and elementDwise operations in TensorFlow."
   ]
  },
  {
   "cell_type": "markdown",
   "id": "657fdd26-2e11-4fba-9b99-0e73cb0e1669",
   "metadata": {},
   "source": [
    "1. Matrix Addition (tf.add):\n",
    "\n",
    "Performs element-wise addition between two tensors.\n",
    "Shapes must be compatible for addition (broadcasting is allowed for compatible shapes).\n",
    "\n",
    "2. Matrix Multiplication (tf.linalg.matmul):\n",
    "\n",
    "Performs matrix multiplication between two tensors.\n",
    "Inner dimensions (columns of the first tensor and rows of the second tensor) must be equal for multiplication.\n",
    "Outer dimensions can be broadcast if compatible.\n",
    "\n",
    "3. Element-Wise Operations (tf.math.*):\n",
    "    \n",
    "Perform operations on corresponding elements of two tensors.\n",
    "Shapes must be compatible (broadcasting is allowed).\n",
    "Common element-wise operations include:\n",
    "tf.math.multiply: Element-wise multiplication.\n",
    "tf.math.add: Element-wise addition (same as matrix addition for compatible shapes).\n",
    "tf.math.subtract: Element-wise subtraction.\n",
    "tf.math.divide: Element-wise division.\n",
    "Many other mathematical operations are available in tf.math."
   ]
  },
  {
   "cell_type": "code",
   "execution_count": 10,
   "id": "571ef6f2-b15d-4fd5-9cfe-71a8010f5c22",
   "metadata": {},
   "outputs": [
    {
     "name": "stdout",
     "output_type": "stream",
     "text": [
      "tf.Tensor(\n",
      "[[ 6  8]\n",
      " [10 12]], shape=(2, 2), dtype=int32)\n",
      "tf.Tensor(\n",
      "[[19 22]\n",
      " [43 50]], shape=(2, 2), dtype=int32)\n",
      "tf.Tensor(\n",
      "[[2 4]\n",
      " [6 8]], shape=(2, 2), dtype=int32)\n"
     ]
    }
   ],
   "source": [
    "#Example\n",
    "    ## Matrix Addition (tf.add)##\n",
    "import tensorflow as tf\n",
    "matrix_a = tf.constant([[1, 2], [3, 4]])\n",
    "matrix_b = tf.constant([[5, 6], [7, 8]])\n",
    "added_matrix = tf.add(matrix_a, matrix_b)\n",
    "print(added_matrix)  # Output: [[6 8] [10 12]]\n",
    "     ## Matrix Multiplication (tf.linalg.matmul) ##\n",
    "matrix_a = tf.constant([[1, 2], [3, 4]])\n",
    "matrix_b = tf.constant([[5, 6], [7, 8]])\n",
    "product_matrix = tf.linalg.matmul(matrix_a, matrix_b)\n",
    "print(product_matrix)  # Output: [[19 22] [43 50]]\n",
    "    ## Element-Wise Operations (tf.math.*) ##\n",
    "matrix_a = tf.constant([[1, 2], [3, 4]])\n",
    "multiplier = tf.constant(2)\n",
    "element_wise_product = tf.math.multiply(matrix_a, multiplier)\n",
    "print(element_wise_product)  # Output: [[2 4] [6 8]]"
   ]
  },
  {
   "cell_type": "markdown",
   "id": "b910c610-8d46-45be-8d21-addf9ef9fa4b",
   "metadata": {},
   "source": [
    "## Part 2: Practical Implementation"
   ]
  },
  {
   "cell_type": "markdown",
   "id": "c6056b20-1df0-4663-a147-d2eb25990dca",
   "metadata": {},
   "source": [
    "Task 1: Creating and Manipulating Matricek"
   ]
  },
  {
   "cell_type": "raw",
   "id": "b1c9aa0c-716f-4cdd-ac15-c3993b23baf6",
   "metadata": {},
   "source": [
    "1.Create a normal matrix A with dimensions 2x2, using TensorFlow's random_normal function. Display the\n",
    "values of matrix Ac"
   ]
  },
  {
   "cell_type": "code",
   "execution_count": 12,
   "id": "83420b90-081d-4664-96da-673205816a90",
   "metadata": {},
   "outputs": [
    {
     "name": "stdout",
     "output_type": "stream",
     "text": [
      "[[-0.27307793  0.30820268]\n",
      " [ 2.287117    1.0581897 ]]\n"
     ]
    }
   ],
   "source": [
    "# Define the shape of the matrix (2 rows, 2 columns)\n",
    "shape = (2, 2)\n",
    "# Create a random normal matrix with mean 0 and standard deviation 1\n",
    "A = tf.random.normal(shape)\n",
    "# Print the values of matrix A\n",
    "print(A.numpy())"
   ]
  },
  {
   "cell_type": "raw",
   "id": "90e51332-9076-49f7-99d1-2ea352b37e0d",
   "metadata": {},
   "source": [
    "2.Create a Gaussian matrix B with dimensions x, using TensorFlow's truncated_normal function. Display\n",
    "the values of matrix B"
   ]
  },
  {
   "cell_type": "code",
   "execution_count": 13,
   "id": "e06e7f88-ede8-4c09-b6c0-77cd206b2acc",
   "metadata": {},
   "outputs": [
    {
     "name": "stdin",
     "output_type": "stream",
     "text": [
      "Enter the desired dimension (x) for the Gaussian matrix:  3\n"
     ]
    },
    {
     "name": "stdout",
     "output_type": "stream",
     "text": [
      "[[-0.07452052 -0.645923   -0.15519139]\n",
      " [ 1.5490913   1.8410037  -0.86855227]\n",
      " [-0.12232517 -1.14241     0.15056388]]\n"
     ]
    }
   ],
   "source": [
    "import tensorflow as tf\n",
    "\n",
    "# Get the desired dimension (x) from the user\n",
    "x = int(input(\"Enter the desired dimension (x) for the Gaussian matrix: \"))\n",
    "# Ensure positive dimension\n",
    "if x <= 0:\n",
    "  print(\"Error: Dimension must be a positive integer.\")\n",
    "else:\n",
    "  # Truncate values outside 2 standard deviations from the mean (0)\n",
    "  stddev = 1.0  # You can adjust this value to control the spread of the distribution\n",
    "  truncation_limit = 2 * stddev\n",
    "  # Create a truncated normal matrix with mean 0 and standard deviation stddev\n",
    "  B = tf.random.truncated_normal((x, x), mean=0.0, stddev=stddev, seed=None, dtype=tf.float32)\n",
    "  # Print the values of matrix B\n",
    "  print(B.numpy())"
   ]
  },
  {
   "cell_type": "raw",
   "id": "3e6deebb-5d8e-483c-805a-d9fe7f88064d",
   "metadata": {},
   "source": [
    "3.Create a matrix C with dimensions 2x2, where the values are drawn from a normal distribution with a\n",
    "mean of 2 and a standard deviation of 0.x, using TensorFlow's random.normal function. Display the values\n",
    "of matrix Cc"
   ]
  },
  {
   "cell_type": "code",
   "execution_count": 14,
   "id": "f63ecf8d-2c05-4539-898f-5489950cd31e",
   "metadata": {},
   "outputs": [
    {
     "name": "stdin",
     "output_type": "stream",
     "text": [
      "Enter the desired standard deviation (positive number):  3\n"
     ]
    },
    {
     "name": "stdout",
     "output_type": "stream",
     "text": [
      "[[2.3967626  0.49727023]\n",
      " [4.6694784  2.72831   ]]\n"
     ]
    }
   ],
   "source": [
    "import tensorflow as tf\n",
    "# Define the shape of the matrix (2 rows, 2 columns)\n",
    "shape = (2, 2)\n",
    "# Specify the desired standard deviation (replace 0.x with your chosen value)\n",
    "stddev = 0.  # We'll modify this value later\n",
    "# Prompt the user for the standard deviation\n",
    "user_stddev = float(input(\"Enter the desired standard deviation (positive number): \"))\n",
    "# Ensure positive standard deviation\n",
    "if user_stddev <= 0:\n",
    "  print(\"Error: Standard deviation must be a positive number.\")\n",
    "else:\n",
    "  # Update the standard deviation with user input\n",
    "  stddev = user_stddev\n",
    "  # Create a random normal matrix with mean 2 and the specified standard deviation\n",
    "  C = tf.random.normal(shape, mean=2.0, stddev=stddev)\n",
    "  # Print the values of matrix C\n",
    "  print(C.numpy())"
   ]
  },
  {
   "cell_type": "raw",
   "id": "bb3e1c15-f275-482c-aabd-ab154bce156c",
   "metadata": {},
   "source": [
    "4.Perform matrix addition between matrix A and matrix B, and store the result in matrix D"
   ]
  },
  {
   "cell_type": "code",
   "execution_count": 15,
   "id": "ef7797b0-fcf4-452b-a1a6-8af96c9ed182",
   "metadata": {},
   "outputs": [
    {
     "name": "stdin",
     "output_type": "stream",
     "text": [
      "Enter the desired dimension (x) for the Gaussian matrix B:  3\n"
     ]
    },
    {
     "name": "stdout",
     "output_type": "stream",
     "text": [
      "Matrix A:\n",
      "[[ 1.0927862   0.160523  ]\n",
      " [-0.16880876  0.5822695 ]]\n",
      "\n",
      "Matrix B (top-left 2x2 submatrix):\n",
      "[[ 0.61943626  0.6560017 ]\n",
      " [ 1.0057894  -0.01444351]]\n",
      "\n",
      "Matrix D (A + B):\n",
      "[[1.7122225  0.8165247 ]\n",
      " [0.83698064 0.567826  ]]\n"
     ]
    }
   ],
   "source": [
    "import tensorflow as tf\n",
    "# Define the shape of the matrices (2x2)\n",
    "shape = (2, 2)\n",
    "# Create a random normal matrix A with mean 0 and standard deviation 1\n",
    "A = tf.random.normal(shape)\n",
    "# Prompt the user for the dimension (x) of the Gaussian matrix B\n",
    "x = int(input(\"Enter the desired dimension (x) for the Gaussian matrix B: \"))\n",
    "# Ensure positive dimension\n",
    "if x <= 0:\n",
    "  print(\"Error: Dimension must be a positive integer.\")\n",
    "else:\n",
    "  # Truncate values outside 2 standard deviations from the mean (0)\n",
    "  stddev = 1.0  # You can adjust this value to control the spread of the distribution\n",
    "  truncation_limit = 2 * stddev\n",
    "  # Create a truncated normal matrix B with mean 0 and standard deviation stddev\n",
    "  B = tf.random.truncated_normal((x, x), mean=0.0, stddev=stddev, seed=None, dtype=tf.float32)\n",
    "  # Perform matrix addition and store the result in D\n",
    "  D = tf.add(A, B[:2, :2])  # Select the top-left 2x2 submatrix of B for addition\n",
    "  # Print the values of matrices A, B (2x2 submatrix), and D\n",
    "  print(\"Matrix A:\")\n",
    "  print(A.numpy())\n",
    "  print(\"\\nMatrix B (top-left 2x2 submatrix):\")\n",
    "  print(B[:2, :2].numpy())  # Select the top-left 2x2 submatrix for printing\n",
    "  print(\"\\nMatrix D (A + B):\")\n",
    "  print(D.numpy())"
   ]
  },
  {
   "cell_type": "raw",
   "id": "aa898cf7-ee7b-4f3d-897d-0ffbff48a03c",
   "metadata": {},
   "source": [
    "5.Perform matrix multiplication between matrix C and matrix D, and store the result in matrix E."
   ]
  },
  {
   "cell_type": "code",
   "execution_count": 16,
   "id": "6a85ff7e-2918-430f-9144-c7c4a9945187",
   "metadata": {},
   "outputs": [
    {
     "name": "stdin",
     "output_type": "stream",
     "text": [
      "Enter the desired standard deviation (positive number) for matrix C:  4\n"
     ]
    },
    {
     "name": "stdout",
     "output_type": "stream",
     "text": [
      "Matrix C:\n",
      "[[-0.901551   5.5544605]\n",
      " [ 1.3498356  3.7036514]]\n",
      "\n",
      "Matrix D:\n",
      "[[1.7122225  0.8165247 ]\n",
      " [0.83698064 0.567826  ]]\n",
      "\n",
      "Matrix E (C * D):\n",
      "[[3.10532   2.4178283]\n",
      " [5.4111032 3.2052035]]\n"
     ]
    }
   ],
   "source": [
    "import tensorflow as tf\n",
    "# Define the shape of the matrices (2x2)\n",
    "shape = (2, 2)\n",
    "# Specify the desired standard deviation for matrix C (replace 0.x with your chosen value)\n",
    "stddev = 0.  # We'll modify this value later\n",
    "# Prompt the user for the standard deviation\n",
    "user_stddev = float(input(\"Enter the desired standard deviation (positive number) for matrix C: \"))\n",
    "# Ensure positive standard deviation\n",
    "if user_stddev <= 0:\n",
    "  print(\"Error: Standard deviation must be a positive number.\")\n",
    "else:\n",
    "  # Update the standard deviation for matrix C\n",
    "  stddev = user_stddev\n",
    "  # Create a random normal matrix C with mean 2 and the specified standard deviation\n",
    "  C = tf.random.normal(shape, mean=2.0, stddev=stddev)\n",
    "  # Perform matrix multiplication (assuming D has compatible dimensions)\n",
    "  E = tf.linalg.matmul(C, D)\n",
    "  # Print the values of matrices C, D, and E\n",
    "  print(\"Matrix C:\")\n",
    "  print(C.numpy())\n",
    "  print(\"\\nMatrix D:\")\n",
    "  print(D.numpy())\n",
    "  print(\"\\nMatrix E (C * D):\")\n",
    "  print(E.numpy())"
   ]
  },
  {
   "cell_type": "markdown",
   "id": "548217ca-95fa-4c00-9df9-e4dbfcc9d3e5",
   "metadata": {},
   "source": [
    "Task 2: Performing Additional Matrix Operationk"
   ]
  },
  {
   "cell_type": "raw",
   "id": "c1b668f3-7a3b-432f-9da3-14acc7f47a17",
   "metadata": {},
   "source": [
    "1.Create a matrix F with dimensions 2x2, initialized with random values using TensorFlow's random_uniform\n",
    "functionc"
   ]
  },
  {
   "cell_type": "code",
   "execution_count": 17,
   "id": "b9866bd2-3689-493b-94e3-8c952f2dee1e",
   "metadata": {},
   "outputs": [
    {
     "name": "stdout",
     "output_type": "stream",
     "text": [
      "[[0.7740722  0.759274  ]\n",
      " [0.01919842 0.01035619]]\n"
     ]
    }
   ],
   "source": [
    "import tensorflow as tf\n",
    "# Define the shape of the matrix (2 rows, 2 columns)\n",
    "shape = (2, 2)\n",
    "# Minimum and maximum values for the uniform distribution\n",
    "minval = 0.0  # You can adjust this value\n",
    "maxval = 1.0  # You can adjust this value\n",
    "# Create a random uniform matrix F\n",
    "F = tf.random.uniform(shape, minval=minval, maxval=maxval, dtype=tf.float32)\n",
    "# Print the values of matrix F\n",
    "print(F.numpy())"
   ]
  },
  {
   "cell_type": "raw",
   "id": "a4f5c6c5-0cd5-4832-9ffe-a63b545b004a",
   "metadata": {},
   "source": [
    "2.Calculate the transpose of matrix F and store the result in matrix Gc"
   ]
  },
  {
   "cell_type": "code",
   "execution_count": 18,
   "id": "8ca4ee43-a50a-4aa1-9c08-597188f10103",
   "metadata": {},
   "outputs": [
    {
     "name": "stdout",
     "output_type": "stream",
     "text": [
      "Matrix F:\n",
      "[[0.7740722  0.759274  ]\n",
      " [0.01919842 0.01035619]]\n",
      "\n",
      "Matrix G (Transpose of F):\n",
      "[[0.7740722  0.01919842]\n",
      " [0.759274   0.01035619]]\n"
     ]
    }
   ],
   "source": [
    "G = tf.transpose(F)\n",
    "# Print the values of matrices F and G\n",
    "print(\"Matrix F:\")\n",
    "print(F.numpy())\n",
    "print(\"\\nMatrix G (Transpose of F):\")\n",
    "print(G.numpy())"
   ]
  },
  {
   "cell_type": "raw",
   "id": "6850f27b-5274-4a86-bed0-750eb1f08d75",
   "metadata": {},
   "source": [
    "3.Calculate the elementDwise exponential of matrix F and store the result in matrix Hc"
   ]
  },
  {
   "cell_type": "code",
   "execution_count": 19,
   "id": "fc88a6ff-d9d9-46cd-80bc-1767a7d697d7",
   "metadata": {},
   "outputs": [
    {
     "name": "stdout",
     "output_type": "stream",
     "text": [
      "Matrix F:\n",
      "[[0.7740722  0.759274  ]\n",
      " [0.01919842 0.01035619]]\n",
      "\n",
      "Matrix H (Element-wise Exponential of F):\n",
      "[[2.168579  2.1367245]\n",
      " [1.0193839 1.01041  ]]\n"
     ]
    }
   ],
   "source": [
    "# Calculate the element-wise exponential of F and store the result in H\n",
    "H = tf.math.exp(F)\n",
    "# Print the values of matrices F and H\n",
    "print(\"Matrix F:\")\n",
    "print(F.numpy())\n",
    "print(\"\\nMatrix H (Element-wise Exponential of F):\")\n",
    "print(H.numpy())"
   ]
  },
  {
   "cell_type": "raw",
   "id": "6c221473-632e-4a24-8489-5380928ace5b",
   "metadata": {},
   "source": [
    "4.Create a matrix I by concatenating matrix F and matrix G horizontally."
   ]
  },
  {
   "cell_type": "code",
   "execution_count": 20,
   "id": "526b43af-7945-4efb-a8c7-455028703a09",
   "metadata": {},
   "outputs": [
    {
     "name": "stdout",
     "output_type": "stream",
     "text": [
      "Matrix F:\n",
      "[[0.7740722  0.759274  ]\n",
      " [0.01919842 0.01035619]]\n",
      "\n",
      "Matrix G (Transpose of F):\n",
      "[[0.7740722  0.01919842]\n",
      " [0.759274   0.01035619]]\n",
      "\n",
      "Matrix I (F concatenated with G horizontally):\n",
      "[[0.7740722  0.759274   0.7740722  0.01919842]\n",
      " [0.01919842 0.01035619 0.759274   0.01035619]]\n"
     ]
    }
   ],
   "source": [
    "# Calculate the transpose of F and store the result in G\n",
    "G = tf.transpose(F)\n",
    "# Concatenate F and G horizontally to create I\n",
    "I = tf.concat([F, G], axis=1)  # Concatenate along columns (axis=1)\n",
    "# Print the values of matrices F, G, and I\n",
    "print(\"Matrix F:\")\n",
    "print(F.numpy())\n",
    "print(\"\\nMatrix G (Transpose of F):\")\n",
    "print(G.numpy())\n",
    "print(\"\\nMatrix I (F concatenated with G horizontally):\")\n",
    "print(I.numpy())"
   ]
  },
  {
   "cell_type": "raw",
   "id": "9959aeb6-7988-4835-b659-d3b840bac5fe",
   "metadata": {},
   "source": [
    "5.Create a matrix J by concatenating matrix F and matrix H vertically."
   ]
  },
  {
   "cell_type": "code",
   "execution_count": null,
   "id": "013ddec3-e4d8-4ee1-834a-4640290910cc",
   "metadata": {},
   "outputs": [],
   "source": []
  },
  {
   "cell_type": "code",
   "execution_count": null,
   "id": "c1dfc4b7-e318-4c02-93bf-acd5574cd204",
   "metadata": {},
   "outputs": [],
   "source": []
  },
  {
   "cell_type": "code",
   "execution_count": null,
   "id": "b3c9fd68-cd77-4c6e-98b6-c930f7e723f8",
   "metadata": {},
   "outputs": [],
   "source": []
  }
 ],
 "metadata": {
  "kernelspec": {
   "display_name": "Python 3 (ipykernel)",
   "language": "python",
   "name": "python3"
  },
  "language_info": {
   "codemirror_mode": {
    "name": "ipython",
    "version": 3
   },
   "file_extension": ".py",
   "mimetype": "text/x-python",
   "name": "python",
   "nbconvert_exporter": "python",
   "pygments_lexer": "ipython3",
   "version": "3.10.8"
  }
 },
 "nbformat": 4,
 "nbformat_minor": 5
}
