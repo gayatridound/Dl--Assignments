{
 "cells": [
  {
   "cell_type": "markdown",
   "id": "dbc0667a-c4bb-4549-8f22-d9e079a0113d",
   "metadata": {},
   "source": [
    "## Part 1: Understanding Optimiaer`"
   ]
  },
  {
   "cell_type": "code",
   "execution_count": null,
   "id": "512bdda7-b7eb-423b-a486-d4095d4933fd",
   "metadata": {},
   "outputs": [],
   "source": []
  },
  {
   "cell_type": "raw",
   "id": "1cbaaac2-f288-4039-be08-b285403d3456",
   "metadata": {},
   "source": [
    "1.What is the role of optimization algorithms in artificial neural networksK Why are they necessaryJ"
   ]
  },
  {
   "cell_type": "markdown",
   "id": "bc8a3882-0084-4463-a903-230361026d8a",
   "metadata": {},
   "source": [
    "Optimization algorithms play a critical role in the training process of a neural network by:\n",
    "\n",
    "Minimizing Loss:  The core function of an optimizer is to adjust the internal parameters of the neural network, such as weights and biases, to minimize a loss function. This loss function essentially tells you how well the network is performing on a given task. By minimizing the loss, the optimizer helps the network learn and improve its accuracy.\n",
    "\n",
    "Guided Learning:  Imagine a hiker trying to descend a mountain while blindfolded. They could stumble around randomly and eventually reach the bottom, but it would be slow and inefficient.  An optimization algorithm acts like a guide for the network, providing it with direction on how to adjust its parameters to move towards lower loss and better performance.\n",
    "\n",
    "Here's why optimization algorithms are necessary:\n",
    "\n",
    "Complex Landscapes:  The loss function in a neural network can be a complex, multi-dimensional landscape with many peaks and valleys.  Without an optimizer, the network might get stuck in a local minimum (poor performance) rather than finding the global minimum (best performance).\n",
    "\n",
    "Efficient Learning:  Even in simpler landscapes, randomly adjusting parameters would be incredibly slow. Optimizers use various techniques to efficiently navigate the loss function and converge on a good solution."
   ]
  },
  {
   "cell_type": "raw",
   "id": "05775531-7f6e-4e96-b796-17c5aaf36e30",
   "metadata": {},
   "source": [
    "2.Explain the concept of gradient descent and its variants. Discuss their differences and tradeoffs in terms\n",
    "of convergence speed and memory requirements"
   ]
  },
  {
   "cell_type": "markdown",
   "id": "4e7900df-f9fe-48b1-8536-b534b6c01f54",
   "metadata": {},
   "source": [
    "Gradient descent is a fundamental optimization algorithm used extensively in training artificial neural networks. It works by iteratively adjusting the network's internal parameters (weights and biases) to minimize a loss function, ultimately leading the network to learn and improve its performance.\n",
    "\n",
    "Here's a breakdown of gradient descent and its common variants, highlighting their trade-offs in terms of convergence speed and memory requirements:\n",
    "\n",
    "1. Batch Gradient Descent (BGD):\n",
    "\n",
    "Concept: BGD uses the entire training dataset in each iteration to calculate the gradient (direction of steepest descent) of the loss function. This gradient is then used to update the network's parameters.\n",
    "Convergence Speed: Slowest due to considering the entire dataset, making each iteration computationally expensive.\n",
    "Memory Requirements: Highest, as it requires storing information for all training examples.\n",
    "2. Stochastic Gradient Descent (SGD):\n",
    "\n",
    "Concept: SGD takes the opposite approach of BGD. It uses a single data point (example) at a time to calculate the gradient and update parameters. This makes it much faster than BGD.\n",
    "Convergence Speed: Faster than BGD due to its lightweight nature. However, the updates can be noisy, leading to a zig-zagging path towards the minimum and potentially slower convergence in the long run.\n",
    "Memory Requirements: Lowest, as it only needs to store information for a single data point at a time.\n",
    "3. Mini-batch Gradient Descent:\n",
    "\n",
    "Concept: Mini-batch strikes a balance between BGD and SGD. It uses a small subset (mini-batch) of the training data in each iteration to calculate the gradient and update parameters. This provides a more stable update direction compared to SGD while being faster than BGD.\n",
    "Convergence Speed: Typically faster than BGD and can be more stable than SGD, leading to a good balance between speed and smoothness of convergence.\n",
    "Memory Requirements: Moderate, requiring storage for the mini-batch size, which is typically a hyperparameter to be tuned.\n",
    "Choosing the Right Variant:\n",
    "\n",
    "The best choice among these variants depends on the specific problem and dataset size. Here's a general guideline:\n",
    "\n",
    "Large Datasets: Mini-batch gradient descent is often preferred due to its balance between speed and stability.\n",
    "Small Datasets: BGD might be viable as the computational cost is lower.\n",
    "Highly Noisy Data: SGD can be useful to escape local minima, but careful tuning of the learning rate is crucial"
   ]
  },
  {
   "cell_type": "raw",
   "id": "ec9f7b3c-94dc-4ec3-af97-66928e875963",
   "metadata": {},
   "source": [
    "3.Describe the challenges associated with traditional gradient descent optimization methods (e.g., slow\n",
    "convergence, local minima. How do modern optimizers address these challenges?"
   ]
  },
  {
   "cell_type": "markdown",
   "id": "dcc2384e-86c4-4a74-a131-e7b4e5e37e42",
   "metadata": {},
   "source": [
    "1. EDA_FE_Flight\\ Price.ipynbSlow Convergence:  Standard gradient descent, especially Batch Gradient Descent (BGD), can be very slow to converge, particularly with large datasets.  This is because BGD updates parameters based on the entire dataset in each step, making each iteration computationally expensive.\n",
    "\n",
    "2. Local Minima:  The loss function in a neural network can have many valleys and peaks.  Traditional gradient descent can get stuck in a local minimum, a point where the gradient is zero but it's not the absolute lowest point (global minimum). This leads to suboptimal performance for the network.\n",
    "\n",
    "3. Vanishing/Exploding Gradients:  In deep neural networks, gradients can become very small (vanishing) or very large (exploding) as they propagate backward through the layers during training.  Vanishing gradients make it difficult for earlier layers to learn, while exploding gradients lead to unstable training behavior.\n",
    "\n",
    "Modern optimizers address these challenges in various ways:\n",
    "\n",
    "Momentum:  This technique adds a fraction of the previous update to the current gradient,  allowing the optimizer to accumulate momentum and potentially escape shallow local minima.\n",
    "\n",
    "Adaptive Learning Rates:  Traditional methods use a fixed learning rate, which can be too slow or lead to overshooting the minimum.  Adaptive optimizers like AdaGrad, RMSprop, and Adam adjust the learning rate for each parameter individually, allowing for faster convergence and better handling of sparse gradients.\n",
    "\n",
    "Mini-batch Gradient Descent:  As discussed earlier, this variant uses a subset of the data (mini-batch) for each update, offering a good balance between convergence speed and stability compared to BGD and SGD."
   ]
  },
  {
   "cell_type": "raw",
   "id": "022a7a54-f9bd-4a7d-b3bc-286a61f4a1cc",
   "metadata": {},
   "source": [
    "4.Discuss the concepts of momentum and learning rate in the context of optimization algorithms. How do\n",
    "they impact convergence and model performances"
   ]
  },
  {
   "cell_type": "markdown",
   "id": "b2e39b16-f5f8-47f6-a477-39ee41281fcc",
   "metadata": {},
   "source": [
    "In the realm of optimization algorithms for neural networks, momentum and learning rate play critical roles in guiding the network towards optimal performance. Here's a breakdown of their individual impacts and how they influence convergence and model performance:\n",
    "\n",
    "1. Learning Rate (η):\n",
    "\n",
    "Concept: The learning rate controls the size of the step taken by the optimizer in the direction of the gradient during each iteration. It determines how much the network's parameters (weights and biases) are adjusted based on the calculated error.\n",
    "\n",
    "Impact on Convergence:\n",
    "\n",
    "High Learning Rate (η > optimal): Leads to faster updates but can cause the optimizer to overshoot the minimum point in the loss function, resulting in oscillations and potentially getting stuck in local minima. This can hinder convergence.\n",
    "Low Learning Rate (η < optimal): Leads to smaller updates, making the training process slow and potentially getting stuck in shallow valleys of the loss function. Slow convergence can lead to poor model performance.\n",
    "Impact on Model Performance:\n",
    "\n",
    "Finding the optimal learning rate is crucial for achieving good performance. A well-tuned learning rate allows the optimizer to efficiently navigate the loss function landscape and find the global minimum, leading to a well-trained model with good generalization ability.\n",
    "2. Momentum (β):\n",
    "\n",
    "Concept: Momentum introduces inertia into the update process. It considers not just the current gradient but also a weighted average of past gradients. This helps the optimizer to \"accelerate\" in consistent directions and \"coast\" over gentle slopes in the loss function.\n",
    "\n",
    "Impact on Convergence:\n",
    "\n",
    "Momentum can help the optimizer escape shallow local minima by accumulating momentum and pushing through them. It can also smooth out the update process, leading to more stable convergence, especially when dealing with noisy gradients.\n",
    "Impact on Model Performance:\n",
    "\n",
    "By facilitating smoother convergence, momentum can help the optimizer find a better minimum in the loss function. This can lead to a model with better performance and potentially improved generalization ability."
   ]
  },
  {
   "cell_type": "markdown",
   "id": "7e778f50-7516-42f5-a9cc-dee80c36e948",
   "metadata": {},
   "source": [
    "## Part 2: Optimizer Techoiques"
   ]
  },
  {
   "cell_type": "raw",
   "id": "3faac682-4447-4330-a580-6d7a5a970a7b",
   "metadata": {},
   "source": [
    "5. Explain the concept of Stochastic radient Descent (SD< and its advantages compared to traditional gradient descent. Discuss its limitations and scenarios where it is most suitable."
   ]
  },
  {
   "cell_type": "markdown",
   "id": "d026f64e-4592-4b16-a9a2-8a293d9b134b",
   "metadata": {},
   "source": [
    "Stochastic Gradient Descent (SGD): A Faster but Noisier Path\n",
    "Stochastic Gradient Descent (SGD) is a popular and efficient variant of the traditional gradient descent optimization algorithm used in training neural networks. Here's a breakdown of its concept, advantages, limitations, and ideal use cases:\n",
    "\n",
    "Concept:\n",
    "\n",
    "Unlike Batch Gradient Descent (BGD) which uses the entire dataset to calculate the gradient in each iteration, SGD utilizes a single data point (or a small mini-batch) at a time. This significantly reduces the computational cost per iteration, making it much faster to train large neural networks.\n",
    "\n",
    "Advantages:\n",
    "\n",
    "Speed: SGD excels in terms of training speed, especially for massive datasets. By using a single data point, it avoids the expensive computations required for processing the entire dataset in each step.\n",
    "\n",
    "Adaptability: SGD can handle data arriving sequentially, making it suitable for online learning scenarios where data becomes available over time.\n",
    "\n",
    "Potential for Escaping Local Minima: The inherent noise introduced by using single data points can sometimes help SGD nudge the optimizer out of shallow local minima in the loss function, leading to potentially better solutions.\n",
    "\n",
    "Limitations:\n",
    "\n",
    "Noisy Updates: SGD updates can be noisy due to the limited information used (single data point). This can lead to a zig-zagging path towards the minimum in the loss function, potentially slowing down convergence in the long run compared to BGD.\n",
    "\n",
    "Hyperparameter Tuning: SGD requires careful tuning of the learning rate to balance the speed of updates with stability. Too high a learning rate can cause divergence, while too low a rate can lead to slow convergence.\n",
    "\n",
    "Suitable Scenarios:\n",
    "\n",
    "Large Datasets: When dealing with massive datasets where BGD becomes computationally prohibitive, SGD shines due to its speed advantage.\n",
    "\n",
    "Online Learning: SGD is well-suited for scenarios where data is streamed or arrives sequentially, making it adaptable to real-time learning tasks."
   ]
  },
  {
   "cell_type": "raw",
   "id": "4b6fef6c-48ef-43a6-98f8-93c8a4d3624d",
   "metadata": {},
   "source": [
    "6. Describe the concept of Adam optimizer and how it combines momentum and adaptive learning rates.Discuss its benefits and potential drawbacksn"
   ]
  },
  {
   "cell_type": "markdown",
   "id": "a41e2d7f-9c26-427a-b1e7-cca2ee723457",
   "metadata": {},
   "source": [
    "Adam: An Optimizer with Momentum and Adaptive Learning Rates\n",
    "The Adam optimizer (Adaptive Moment Estimation) stands out as a powerful and widely used optimization algorithm in the realm of neural networks. It combines the strengths of two popular techniques: momentum and adaptive learning rates, leading to faster convergence and potentially better performance.\n",
    "\n",
    "Concept:\n",
    "\n",
    "Adam maintains estimates of the first and second moments of the gradients (mean and uncentered variance) for each network parameter. These estimates are used to dynamically adjust the learning rate for each parameter individually during the training process.\n",
    "\n",
    "It incorporates momentum by keeping an exponentially decaying average of past gradients. This helps the optimizer accumulate momentum and navigate towards the minimum in the loss function more efficiently.\n",
    "\n",
    "Unlike SGD with fixed learning rate or RMSprop with adaptive learning based on squared gradients, Adam utilizes both mean and variance information to adjust learning rates. This allows for more robust and controlled updates.\n",
    "\n",
    "Benefits:\n",
    "\n",
    "Faster Convergence: By combining momentum and adaptive learning rates, Adam often converges faster than traditional gradient descent methods, especially when dealing with noisy or non-convex loss functions.\n",
    "\n",
    "Reduced Hyperparameter Tuning: Adam is known to be less sensitive to hyperparameter tuning compared to some other optimizers. This can be particularly beneficial for complex models or when dealing with limited data.\n",
    "\n",
    "Efficient Handling of Sparse Gradients: Adam can effectively handle situations where gradients for some parameters are very small (sparse gradients). This is crucial for training deep neural networks with many parameters.\n",
    "\n",
    "Potential Drawbacks:\n",
    "\n",
    "Computational Cost: While generally efficient, Adam can be slightly more computationally expensive compared to SGD due to the additional calculations involved in estimating moments and adjusting learning rates.\n",
    "\n",
    "Suitability for All Problems: Although powerful, Adam might not always be the best choice for every scenario. Some problems might benefit from more specialized optimizers designed for specific challenges.\n",
    "\n",
    "Potential for Overshooting Minima: In rare cases, Adam's aggressive learning rate adjustments can lead to overshooting the minimum in the loss function, requiring careful monitoring and potential adjustments."
   ]
  },
  {
   "cell_type": "raw",
   "id": "20a9e56e-cd4b-4a8a-bed3-5aff00e05d19",
   "metadata": {},
   "source": [
    "Explain the concept of RMSprop optimizer and how it addresses the challenges of adaptive learning\n",
    "rates. ompare it with Adam and discuss their relative strengths and weaknesses."
   ]
  },
  {
   "cell_type": "code",
   "execution_count": null,
   "id": "7b8991aa-adf2-42d4-ae33-719315f87039",
   "metadata": {},
   "outputs": [],
   "source": []
  },
  {
   "cell_type": "markdown",
   "id": "7de2ee19-228c-4d1e-a32a-3b34f47b84c0",
   "metadata": {},
   "source": [
    "RMSprop (Root Mean Squared Prop):\n",
    "\n",
    "Concept: An adaptive learning rate optimization algorithm designed to address the shortcomings of vanilla Stochastic Gradient Descent (SGD) with a fixed learning rate. SGD can struggle with gradients that have vastly different magnitudes across parameters, leading to slow convergence or oscillations.\n",
    "Adaptive Learning Rate: RMSprop maintains an exponentially decaying average of squared gradients for each parameter. This average is used to normalize the learning rate, effectively scaling it down for parameters with consistently large gradients and scaling it up for those with consistently small gradients. This helps to:\n",
    "Prevent Exploding Gradients: Large gradients can cause updates that push weights too far, leading to divergence. RMSprop's adaptive nature helps to mitigate this.\n",
    "Alleviate Vanishing Gradients: Small gradients can slow down learning in certain directions. RMSprop's normalization can help to address this.\n",
    "Key Parameters:\n",
    "learning_rate: Base learning rate that controls the overall magnitude of updates.\n",
    "rho (decay rate): Controls how quickly the average of squared gradients is forgotten. Higher values put more weight on past gradients, while lower values prioritize recent ones.\n",
    "Adam (Adaptive Moment Estimation):\n",
    "\n",
    "Concept: An extension of RMSprop that incorporates ideas from momentum-based optimizers. It estimates both the first moment (mean) and the second moment (uncentered variance) of the gradients, using them to adaptively adjust learning rates.\n",
    "Adaptive Learning Rate: Adam combines:\n",
    "An exponentially decaying average of gradients (similar to RMSprop) to address vanishing gradients.\n",
    "An exponentially decaying average of squared gradients (like RMSprop) to deal with exploding gradients.\n",
    "Bias correction terms to ensure the estimates are less biased towards initial values, especially at the beginning of training.\n",
    "Key Parameters:\n",
    "learning_rate: Base learning rate.\n",
    "beta1 (momentum decay): Controls the decay rate for the mean of gradients.\n",
    "beta2 (variance decay): Controls the decay rate for the uncentered variance of gradients.\n",
    "epsilon (smoothing term): A small value added to the denominator to prevent division by zero and improve numerical stability."
   ]
  },
  {
   "cell_type": "markdown",
   "id": "5b9cd053-5414-4d36-a9ce-77a2fb2d5c41",
   "metadata": {},
   "source": [
    "## Part 3: Applying Optimizers"
   ]
  },
  {
   "cell_type": "raw",
   "id": "9e58af04-260e-4598-86bf-60cec28022b7",
   "metadata": {},
   "source": [
    "7.Ån Implement SD, Adam, and RMSprop optimizers in a deep learning model using a framework of your\n",
    "choice. Train the model on a suitable dataset and compare their impact on model convergence and\n",
    "performancen"
   ]
  },
  {
   "cell_type": "code",
   "execution_count": 4,
   "id": "56e04ab3-9c0b-439a-b46a-7eb0415f94ad",
   "metadata": {},
   "outputs": [
    {
     "name": "stdout",
     "output_type": "stream",
     "text": [
      "Requirement already satisfied: tensorflow in /opt/conda/lib/python3.10/site-packages (2.16.1)\n",
      "Requirement already satisfied: h5py>=3.10.0 in /opt/conda/lib/python3.10/site-packages (from tensorflow) (3.11.0)\n",
      "Requirement already satisfied: tensorflow-io-gcs-filesystem>=0.23.1 in /opt/conda/lib/python3.10/site-packages (from tensorflow) (0.37.0)\n",
      "Requirement already satisfied: ml-dtypes~=0.3.1 in /opt/conda/lib/python3.10/site-packages (from tensorflow) (0.3.2)\n",
      "Requirement already satisfied: opt-einsum>=2.3.2 in /opt/conda/lib/python3.10/site-packages (from tensorflow) (3.3.0)\n",
      "Requirement already satisfied: absl-py>=1.0.0 in /opt/conda/lib/python3.10/site-packages (from tensorflow) (2.1.0)\n",
      "Requirement already satisfied: wrapt>=1.11.0 in /opt/conda/lib/python3.10/site-packages (from tensorflow) (1.16.0)\n",
      "Requirement already satisfied: termcolor>=1.1.0 in /opt/conda/lib/python3.10/site-packages (from tensorflow) (2.4.0)\n",
      "Requirement already satisfied: requests<3,>=2.21.0 in /opt/conda/lib/python3.10/site-packages (from tensorflow) (2.28.1)\n",
      "Requirement already satisfied: keras>=3.0.0 in /opt/conda/lib/python3.10/site-packages (from tensorflow) (3.3.3)\n",
      "Requirement already satisfied: typing-extensions>=3.6.6 in /opt/conda/lib/python3.10/site-packages (from tensorflow) (4.4.0)\n",
      "Requirement already satisfied: numpy<2.0.0,>=1.23.5 in /opt/conda/lib/python3.10/site-packages (from tensorflow) (1.23.5)\n",
      "Requirement already satisfied: protobuf!=4.21.0,!=4.21.1,!=4.21.2,!=4.21.3,!=4.21.4,!=4.21.5,<5.0.0dev,>=3.20.3 in /opt/conda/lib/python3.10/site-packages (from tensorflow) (4.21.11)\n",
      "Requirement already satisfied: astunparse>=1.6.0 in /opt/conda/lib/python3.10/site-packages (from tensorflow) (1.6.3)\n",
      "Requirement already satisfied: libclang>=13.0.0 in /opt/conda/lib/python3.10/site-packages (from tensorflow) (18.1.1)\n",
      "Requirement already satisfied: tensorboard<2.17,>=2.16 in /opt/conda/lib/python3.10/site-packages (from tensorflow) (2.16.2)\n",
      "Requirement already satisfied: flatbuffers>=23.5.26 in /opt/conda/lib/python3.10/site-packages (from tensorflow) (24.3.25)\n",
      "Requirement already satisfied: google-pasta>=0.1.1 in /opt/conda/lib/python3.10/site-packages (from tensorflow) (0.2.0)\n",
      "Requirement already satisfied: gast!=0.5.0,!=0.5.1,!=0.5.2,>=0.2.1 in /opt/conda/lib/python3.10/site-packages (from tensorflow) (0.5.4)\n",
      "Requirement already satisfied: packaging in /opt/conda/lib/python3.10/site-packages (from tensorflow) (22.0)\n",
      "Requirement already satisfied: grpcio<2.0,>=1.24.3 in /opt/conda/lib/python3.10/site-packages (from tensorflow) (1.63.0)\n",
      "Requirement already satisfied: six>=1.12.0 in /opt/conda/lib/python3.10/site-packages (from tensorflow) (1.16.0)\n",
      "Requirement already satisfied: setuptools in /opt/conda/lib/python3.10/site-packages (from tensorflow) (65.5.1)\n",
      "Requirement already satisfied: wheel<1.0,>=0.23.0 in /opt/conda/lib/python3.10/site-packages (from astunparse>=1.6.0->tensorflow) (0.38.4)\n",
      "Requirement already satisfied: namex in /opt/conda/lib/python3.10/site-packages (from keras>=3.0.0->tensorflow) (0.0.8)\n",
      "Requirement already satisfied: optree in /opt/conda/lib/python3.10/site-packages (from keras>=3.0.0->tensorflow) (0.11.0)\n",
      "Requirement already satisfied: rich in /opt/conda/lib/python3.10/site-packages (from keras>=3.0.0->tensorflow) (13.7.1)\n",
      "Requirement already satisfied: idna<4,>=2.5 in /opt/conda/lib/python3.10/site-packages (from requests<3,>=2.21.0->tensorflow) (3.4)\n",
      "Requirement already satisfied: urllib3<1.27,>=1.21.1 in /opt/conda/lib/python3.10/site-packages (from requests<3,>=2.21.0->tensorflow) (1.26.13)\n",
      "Requirement already satisfied: charset-normalizer<3,>=2 in /opt/conda/lib/python3.10/site-packages (from requests<3,>=2.21.0->tensorflow) (2.1.1)\n",
      "Requirement already satisfied: certifi>=2017.4.17 in /opt/conda/lib/python3.10/site-packages (from requests<3,>=2.21.0->tensorflow) (2022.12.7)\n",
      "Requirement already satisfied: werkzeug>=1.0.1 in /opt/conda/lib/python3.10/site-packages (from tensorboard<2.17,>=2.16->tensorflow) (3.0.3)\n",
      "Requirement already satisfied: tensorboard-data-server<0.8.0,>=0.7.0 in /opt/conda/lib/python3.10/site-packages (from tensorboard<2.17,>=2.16->tensorflow) (0.7.2)\n",
      "Requirement already satisfied: markdown>=2.6.8 in /opt/conda/lib/python3.10/site-packages (from tensorboard<2.17,>=2.16->tensorflow) (3.6)\n",
      "Requirement already satisfied: MarkupSafe>=2.1.1 in /opt/conda/lib/python3.10/site-packages (from werkzeug>=1.0.1->tensorboard<2.17,>=2.16->tensorflow) (2.1.1)\n",
      "Requirement already satisfied: pygments<3.0.0,>=2.13.0 in /opt/conda/lib/python3.10/site-packages (from rich->keras>=3.0.0->tensorflow) (2.13.0)\n",
      "Requirement already satisfied: markdown-it-py>=2.2.0 in /opt/conda/lib/python3.10/site-packages (from rich->keras>=3.0.0->tensorflow) (3.0.0)\n",
      "Requirement already satisfied: mdurl~=0.1 in /opt/conda/lib/python3.10/site-packages (from markdown-it-py>=2.2.0->rich->keras>=3.0.0->tensorflow) (0.1.2)\n"
     ]
    }
   ],
   "source": [
    "!pip install tensorflow\n"
   ]
  },
  {
   "cell_type": "code",
   "execution_count": 9,
   "id": "69d95bc5-28ee-4232-a7f2-54d0ed4e2e21",
   "metadata": {},
   "outputs": [
    {
     "name": "stderr",
     "output_type": "stream",
     "text": [
      "/opt/conda/lib/python3.10/site-packages/keras/src/layers/reshaping/flatten.py:37: UserWarning: Do not pass an `input_shape`/`input_dim` argument to a layer. When using Sequential models, prefer using an `Input(shape)` object as the first layer in the model instead.\n",
      "  super().__init__(**kwargs)\n"
     ]
    },
    {
     "name": "stdout",
     "output_type": "stream",
     "text": [
      "Epoch 1/10\n",
      "\u001b[1m1875/1875\u001b[0m \u001b[32m━━━━━━━━━━━━━━━━━━━━\u001b[0m\u001b[37m\u001b[0m \u001b[1m4s\u001b[0m 2ms/step - accuracy: 0.7368 - loss: 1.0179 - val_accuracy: 0.9044 - val_loss: 0.3563\n",
      "Epoch 2/10\n",
      "\u001b[1m1875/1875\u001b[0m \u001b[32m━━━━━━━━━━━━━━━━━━━━\u001b[0m\u001b[37m\u001b[0m \u001b[1m4s\u001b[0m 2ms/step - accuracy: 0.9030 - loss: 0.3467 - val_accuracy: 0.9207 - val_loss: 0.2917\n",
      "Epoch 3/10\n",
      "\u001b[1m1875/1875\u001b[0m \u001b[32m━━━━━━━━━━━━━━━━━━━━\u001b[0m\u001b[37m\u001b[0m \u001b[1m4s\u001b[0m 2ms/step - accuracy: 0.9174 - loss: 0.2920 - val_accuracy: 0.9273 - val_loss: 0.2596\n",
      "Epoch 4/10\n",
      "\u001b[1m1875/1875\u001b[0m \u001b[32m━━━━━━━━━━━━━━━━━━━━\u001b[0m\u001b[37m\u001b[0m \u001b[1m4s\u001b[0m 2ms/step - accuracy: 0.9250 - loss: 0.2627 - val_accuracy: 0.9330 - val_loss: 0.2401\n",
      "Epoch 5/10\n",
      "\u001b[1m1875/1875\u001b[0m \u001b[32m━━━━━━━━━━━━━━━━━━━━\u001b[0m\u001b[37m\u001b[0m \u001b[1m4s\u001b[0m 2ms/step - accuracy: 0.9315 - loss: 0.2420 - val_accuracy: 0.9385 - val_loss: 0.2212\n",
      "Epoch 6/10\n",
      "\u001b[1m1875/1875\u001b[0m \u001b[32m━━━━━━━━━━━━━━━━━━━━\u001b[0m\u001b[37m\u001b[0m \u001b[1m4s\u001b[0m 2ms/step - accuracy: 0.9383 - loss: 0.2203 - val_accuracy: 0.9398 - val_loss: 0.2102\n",
      "Epoch 7/10\n",
      "\u001b[1m1875/1875\u001b[0m \u001b[32m━━━━━━━━━━━━━━━━━━━━\u001b[0m\u001b[37m\u001b[0m \u001b[1m4s\u001b[0m 2ms/step - accuracy: 0.9431 - loss: 0.2038 - val_accuracy: 0.9449 - val_loss: 0.1956\n",
      "Epoch 8/10\n",
      "\u001b[1m1875/1875\u001b[0m \u001b[32m━━━━━━━━━━━━━━━━━━━━\u001b[0m\u001b[37m\u001b[0m \u001b[1m4s\u001b[0m 2ms/step - accuracy: 0.9466 - loss: 0.1913 - val_accuracy: 0.9453 - val_loss: 0.1852\n",
      "Epoch 9/10\n",
      "\u001b[1m1875/1875\u001b[0m \u001b[32m━━━━━━━━━━━━━━━━━━━━\u001b[0m\u001b[37m\u001b[0m \u001b[1m4s\u001b[0m 2ms/step - accuracy: 0.9492 - loss: 0.1835 - val_accuracy: 0.9486 - val_loss: 0.1745\n",
      "Epoch 10/10\n",
      "\u001b[1m1875/1875\u001b[0m \u001b[32m━━━━━━━━━━━━━━━━━━━━\u001b[0m\u001b[37m\u001b[0m \u001b[1m4s\u001b[0m 2ms/step - accuracy: 0.9523 - loss: 0.1703 - val_accuracy: 0.9513 - val_loss: 0.1673\n",
      "Epoch 1/10\n",
      "\u001b[1m1875/1875\u001b[0m \u001b[32m━━━━━━━━━━━━━━━━━━━━\u001b[0m\u001b[37m\u001b[0m \u001b[1m6s\u001b[0m 3ms/step - accuracy: 0.9509 - loss: 0.1671 - val_accuracy: 0.9680 - val_loss: 0.1082\n",
      "Epoch 2/10\n",
      "\u001b[1m1875/1875\u001b[0m \u001b[32m━━━━━━━━━━━━━━━━━━━━\u001b[0m\u001b[37m\u001b[0m \u001b[1m5s\u001b[0m 3ms/step - accuracy: 0.9728 - loss: 0.0885 - val_accuracy: 0.9708 - val_loss: 0.0944\n",
      "Epoch 3/10\n",
      "\u001b[1m1875/1875\u001b[0m \u001b[32m━━━━━━━━━━━━━━━━━━━━\u001b[0m\u001b[37m\u001b[0m \u001b[1m5s\u001b[0m 3ms/step - accuracy: 0.9809 - loss: 0.0614 - val_accuracy: 0.9744 - val_loss: 0.0845\n",
      "Epoch 4/10\n",
      "\u001b[1m1875/1875\u001b[0m \u001b[32m━━━━━━━━━━━━━━━━━━━━\u001b[0m\u001b[37m\u001b[0m \u001b[1m5s\u001b[0m 3ms/step - accuracy: 0.9848 - loss: 0.0482 - val_accuracy: 0.9772 - val_loss: 0.0769\n",
      "Epoch 5/10\n",
      "\u001b[1m1875/1875\u001b[0m \u001b[32m━━━━━━━━━━━━━━━━━━━━\u001b[0m\u001b[37m\u001b[0m \u001b[1m5s\u001b[0m 3ms/step - accuracy: 0.9883 - loss: 0.0365 - val_accuracy: 0.9768 - val_loss: 0.0709\n",
      "Epoch 6/10\n",
      "\u001b[1m1875/1875\u001b[0m \u001b[32m━━━━━━━━━━━━━━━━━━━━\u001b[0m\u001b[37m\u001b[0m \u001b[1m5s\u001b[0m 3ms/step - accuracy: 0.9914 - loss: 0.0270 - val_accuracy: 0.9789 - val_loss: 0.0698\n",
      "Epoch 7/10\n",
      "\u001b[1m1875/1875\u001b[0m \u001b[32m━━━━━━━━━━━━━━━━━━━━\u001b[0m\u001b[37m\u001b[0m \u001b[1m5s\u001b[0m 3ms/step - accuracy: 0.9930 - loss: 0.0221 - val_accuracy: 0.9799 - val_loss: 0.0698\n",
      "Epoch 8/10\n",
      "\u001b[1m1875/1875\u001b[0m \u001b[32m━━━━━━━━━━━━━━━━━━━━\u001b[0m\u001b[37m\u001b[0m \u001b[1m5s\u001b[0m 3ms/step - accuracy: 0.9946 - loss: 0.0175 - val_accuracy: 0.9784 - val_loss: 0.0717\n",
      "Epoch 9/10\n",
      "\u001b[1m1875/1875\u001b[0m \u001b[32m━━━━━━━━━━━━━━━━━━━━\u001b[0m\u001b[37m\u001b[0m \u001b[1m5s\u001b[0m 3ms/step - accuracy: 0.9951 - loss: 0.0151 - val_accuracy: 0.9778 - val_loss: 0.0850\n",
      "Epoch 10/10\n",
      "\u001b[1m1875/1875\u001b[0m \u001b[32m━━━━━━━━━━━━━━━━━━━━\u001b[0m\u001b[37m\u001b[0m \u001b[1m5s\u001b[0m 3ms/step - accuracy: 0.9956 - loss: 0.0138 - val_accuracy: 0.9791 - val_loss: 0.0784\n",
      "Epoch 1/10\n",
      "\u001b[1m1875/1875\u001b[0m \u001b[32m━━━━━━━━━━━━━━━━━━━━\u001b[0m\u001b[37m\u001b[0m \u001b[1m5s\u001b[0m 3ms/step - accuracy: 0.9978 - loss: 0.0069 - val_accuracy: 0.9817 - val_loss: 0.0721\n",
      "Epoch 2/10\n",
      "\u001b[1m1875/1875\u001b[0m \u001b[32m━━━━━━━━━━━━━━━━━━━━\u001b[0m\u001b[37m\u001b[0m \u001b[1m5s\u001b[0m 2ms/step - accuracy: 0.9988 - loss: 0.0046 - val_accuracy: 0.9800 - val_loss: 0.0829\n",
      "Epoch 3/10\n",
      "\u001b[1m1875/1875\u001b[0m \u001b[32m━━━━━━━━━━━━━━━━━━━━\u001b[0m\u001b[37m\u001b[0m \u001b[1m5s\u001b[0m 2ms/step - accuracy: 0.9990 - loss: 0.0037 - val_accuracy: 0.9811 - val_loss: 0.0794\n",
      "Epoch 4/10\n",
      "\u001b[1m1875/1875\u001b[0m \u001b[32m━━━━━━━━━━━━━━━━━━━━\u001b[0m\u001b[37m\u001b[0m \u001b[1m5s\u001b[0m 2ms/step - accuracy: 0.9994 - loss: 0.0028 - val_accuracy: 0.9812 - val_loss: 0.0790\n",
      "Epoch 5/10\n",
      "\u001b[1m1875/1875\u001b[0m \u001b[32m━━━━━━━━━━━━━━━━━━━━\u001b[0m\u001b[37m\u001b[0m \u001b[1m5s\u001b[0m 2ms/step - accuracy: 0.9996 - loss: 0.0021 - val_accuracy: 0.9816 - val_loss: 0.0834\n",
      "Epoch 6/10\n",
      "\u001b[1m1875/1875\u001b[0m \u001b[32m━━━━━━━━━━━━━━━━━━━━\u001b[0m\u001b[37m\u001b[0m \u001b[1m5s\u001b[0m 3ms/step - accuracy: 0.9996 - loss: 0.0016 - val_accuracy: 0.9820 - val_loss: 0.0840\n",
      "Epoch 7/10\n",
      "\u001b[1m1875/1875\u001b[0m \u001b[32m━━━━━━━━━━━━━━━━━━━━\u001b[0m\u001b[37m\u001b[0m \u001b[1m5s\u001b[0m 3ms/step - accuracy: 0.9997 - loss: 0.0012 - val_accuracy: 0.9825 - val_loss: 0.0854\n",
      "Epoch 8/10\n",
      "\u001b[1m1875/1875\u001b[0m \u001b[32m━━━━━━━━━━━━━━━━━━━━\u001b[0m\u001b[37m\u001b[0m \u001b[1m5s\u001b[0m 3ms/step - accuracy: 0.9999 - loss: 8.9347e-04 - val_accuracy: 0.9814 - val_loss: 0.0861\n",
      "Epoch 9/10\n",
      "\u001b[1m1875/1875\u001b[0m \u001b[32m━━━━━━━━━━━━━━━━━━━━\u001b[0m\u001b[37m\u001b[0m \u001b[1m5s\u001b[0m 3ms/step - accuracy: 1.0000 - loss: 4.9810e-04 - val_accuracy: 0.9815 - val_loss: 0.0896\n",
      "Epoch 10/10\n",
      "\u001b[1m1875/1875\u001b[0m \u001b[32m━━━━━━━━━━━━━━━━━━━━\u001b[0m\u001b[37m\u001b[0m \u001b[1m5s\u001b[0m 3ms/step - accuracy: 0.9999 - loss: 6.4992e-04 - val_accuracy: 0.9811 - val_loss: 0.0878\n"
     ]
    },
    {
     "data": {
      "image/png": "[encoded data removed]",
      "text/plain": [
       "<Figure size 640x480 with 1 Axes>"
      ]
     },
     "metadata": {},
     "output_type": "display_data"
    },
    {
     "data": {
      "image/png": "[encoded data removed]",
      "text/plain": [
       "<Figure size 640x480 with 1 Axes>"
      ]
     },
     "metadata": {},
     "output_type": "display_data"
    }
   ],
   "source": [
    "import tensorflow as tf\n",
    "from tensorflow.keras.datasets import mnist\n",
    "from tensorflow.keras.models import Sequential\n",
    "from tensorflow.keras.layers import Dense, Flatten\n",
    "\n",
    "# Load MNIST dataset\n",
    "(x_train, y_train), (x_test, y_test) = mnist.load_data()\n",
    "\n",
    "# Reshape training and testing data to 2D images (28x28 pixels)\n",
    "x_train = x_train.reshape(-1, 28, 28) / 255.0  # Normalize pixel values\n",
    "x_test = x_test.reshape(-1, 28, 28) / 255.0\n",
    "\n",
    "# Define the model (no changes needed)\n",
    "model = Sequential([\n",
    "  Flatten(input_shape=(28, 28)),\n",
    "  Dense(128, activation='relu'),\n",
    "  Dense(10, activation='softmax')  # 10 output units for digits 0-9\n",
    "])\n",
    "\n",
    "# Compile the model with different optimizers\n",
    "def compile_and_train(optimizer_name, learning_rate):\n",
    "  model.compile(optimizer=optimizer_name(learning_rate=learning_rate),\n",
    "                loss='sparse_categorical_crossentropy',\n",
    "                metrics=['accuracy'])\n",
    "  history = model.fit(x_train, y_train, epochs=10, validation_data=(x_test, y_test))\n",
    "  return history\n",
    "\n",
    "# Train with SGD, Adam (fixed learning rate), and RMSprop\n",
    "history_sgd = compile_and_train(tf.keras.optimizers.SGD, learning_rate=0.01)\n",
    "history_adam = compile_and_train(tf.keras.optimizers.Adam, learning_rate=0.001)  # Set learning rate\n",
    "history_rmsprop = compile_and_train(tf.keras.optimizers.RMSprop, learning_rate=0.001)\n",
    "\n",
    "# Compare convergence and performance (as before)\n",
    "import matplotlib.pyplot as plt\n",
    "plt.plot(history_sgd.history['accuracy'], label='SGD')\n",
    "plt.plot(history_adam.history['accuracy'], label='Adam')\n",
    "plt.plot(history_rmsprop.history['accuracy'], label='RMSprop')\n",
    "plt.title('Training Accuracy')\n",
    "plt.xlabel('Epoch')\n",
    "plt.ylabel('Accuracy')\n",
    "plt.legend()\n",
    "plt.show()\n",
    "\n",
    "# Plot validation accuracy to assess overfitting\n",
    "plt.plot(history_sgd.history['val_accuracy'], label='SGD')\n",
    "plt.plot(history_adam.history['val_accuracy'], label='Adam')\n",
    "plt.plot(history_rmsprop.history['val_accuracy'], label='RMSprop')\n",
    "plt.title('Validation Accuracy')\n",
    "plt.xlabel('Epoch')\n",
    "plt.ylabel('Accuracy')\n",
    "plt.legend()\n",
    "plt.show()\n",
    "# ... (plotting code remains the same)\n"
   ]
  },
  {
   "cell_type": "raw",
   "id": "a7fad0e4-3231-4f13-93b8-94a742ca55d2",
   "metadata": {},
   "source": [
    "9. Discuss the considerations and tradeoffs when choosing the appropriate optimizer for a given neural\n",
    "network architecture and task. onsider factors such as convergence speed, stability, and\n",
    "generalization performance."
   ]
  },
  {
   "cell_type": "code",
   "execution_count": null,
   "id": "1bf787b4-bab6-420b-ab28-4bde78e96a3d",
   "metadata": {},
   "outputs": [],
   "source": []
  },
  {
   "cell_type": "markdown",
   "id": "3a185795-ca7b-4d60-9884-7f06078d8004",
   "metadata": {},
   "source": [
    "1. Convergence Speed:\n",
    "\n",
    "Momentum-based optimizers (SGD with momentum, Adam, RMSprop): These generally converge faster than vanilla SGD by incorporating momentum or adaptive learning rates. They can help escape local minima and navigate valleys in the loss landscape.\n",
    "Adagrad, AdaDelta: These adapt learning rates for individual parameters, which can be beneficial for sparse data or when parameters have different scales. However, they can sometimes become overly aggressive and cause early divergence.\n",
    "Tradeoff: Faster convergence doesn't always guarantee better results. It's important to find a balance between speed and stability.\n",
    "\n",
    "2. Stability:\n",
    "\n",
    "Vanilla SGD: Can be very stable, but convergence can be slow and sensitive to learning rate selection.\n",
    "Adam, RMSprop: Generally more stable than vanilla SGD due to momentum or adaptive learning rates, but may still oscillate around the minimum.\n",
    "Tradeoff: While stability is essential, it shouldn't come at the cost of overly slow or ineffective learning.\n",
    "\n",
    "3. Generalization Performance:\n",
    "\n",
    "Optimizers with regularization (SGD with momentum + L1/L2 regularization, Adam with weight decay): Regularization techniques can help prevent overfitting by penalizing large weights, potentially leading to better generalization.\n",
    "Optimizers that adapt learning rates (Adam, RMSprop): These can help different parts of the network learn at their own pace, which might contribute to better generalization.\n",
    "Tradeoff: There's often a balance between achieving good training accuracy and avoiding overfitting to the training data. Regularization can sometimes reduce training accuracy slightly but can improve performance on unseen data."
   ]
  },
  {
   "cell_type": "code",
   "execution_count": null,
   "id": "b8426302-faf9-4e67-9eeb-dd5b49c39f71",
   "metadata": {},
   "outputs": [],
   "source": []
  },
  {
   "cell_type": "code",
   "execution_count": null,
   "id": "f55eef07-484f-46bc-81ed-6813ac2ebfe5",
   "metadata": {},
   "outputs": [],
   "source": []
  },
  {
   "cell_type": "code",
   "execution_count": null,
   "id": "75fc0c22-ead1-435b-8c66-e93b84f39cc3",
   "metadata": {},
   "outputs": [],
   "source": []
  },
  {
   "cell_type": "code",
   "execution_count": null,
   "id": "02593e01-0902-443c-afee-aa8273973176",
   "metadata": {},
   "outputs": [],
   "source": []
  }
 ],
 "metadata": {
  "kernelspec": {
   "display_name": "Python 3 (ipykernel)",
   "language": "python",
   "name": "python3"
  },
  "language_info": {
   "codemirror_mode": {
    "name": "ipython",
    "version": 3
   },
   "file_extension": ".py",
   "mimetype": "text/x-python",
   "name": "python",
   "nbconvert_exporter": "python",
   "pygments_lexer": "ipython3",
   "version": "3.10.8"
  }
 },
 "nbformat": 4,
 "nbformat_minor": 5
}
